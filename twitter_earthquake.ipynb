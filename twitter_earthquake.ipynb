{
 "metadata": {
  "language_info": {
   "codemirror_mode": {
    "name": "ipython",
    "version": 3
   },
   "file_extension": ".py",
   "mimetype": "text/x-python",
   "name": "python",
   "nbconvert_exporter": "python",
   "pygments_lexer": "ipython3",
   "version": "3.7.9-final"
  },
  "orig_nbformat": 2,
  "kernelspec": {
   "name": "python3",
   "display_name": "Python 3.7.9 64-bit ('dota2_heroes3': conda)",
   "metadata": {
    "interpreter": {
     "hash": "625383f61fd95bd510b1c881cdcc5095aec80fdcc1307bb90ba20ce8cf8ca0d8"
    }
   }
  }
 },
 "nbformat": 4,
 "nbformat_minor": 2,
 "cells": [
  {
   "source": [
    "import tweepy\n",
    "import configparser\n",
    "import pandas as pd\n",
    "\n",
    "config = configparser.ConfigParser()\n",
    "config.read('config.ini')\n",
    "\n",
    "api_key = config['twitter']['api_key']\n",
    "api_key_secret = config['twitter']['api_key_secret']\n",
    "# bearer_token = config['twitter']['bearer_token']\n",
    "access_token = config['twitter']['access_token']\n",
    "access_token_secret = config['twitter']['access_token_secret']"
   ],
   "cell_type": "code",
   "metadata": {},
   "execution_count": 1,
   "outputs": []
  },
  {
   "cell_type": "code",
   "execution_count": 2,
   "metadata": {},
   "outputs": [],
   "source": [
    "client = tweepy.Client(consumer_key=api_key,\n",
    "                       consumer_secret=api_key_secret,\n",
    "                       access_token=access_token,\n",
    "                       access_token_secret=access_token_secret)\n",
    "\n",
    "# PHIVOCS Twitter id = 802064401\n",
    "# phivocs_tweets = client.get_users_tweets(id=802064401, \n",
    "#                                         user_auth=True,\n",
    "#                                         start_time=\"2021-07-27T00:00:00Z\",\n",
    "#                                         max_results=100)\n",
    "paginator = tweepy.Paginator(client.get_users_tweets,\n",
    "                             id=802064401, \n",
    "                             user_auth=True,\n",
    "                             start_time=\"2022-07-27T00:00:00Z\",\n",
    "                             max_results=100)\n",
    "phivocs_tweets = paginator.flatten()"
   ]
  },
  {
   "cell_type": "code",
   "execution_count": 3,
   "metadata": {},
   "outputs": [
    {
     "output_type": "execute_result",
     "data": {
      "text/plain": [
       "                                                   text\n",
       "1074  You may determine the intensity using the PHIV...\n",
       "1075  #EarthquakePH #EarthquakeQuezon\\nEarthquake In...\n",
       "1076  BULKANG KANLAON\\nBuod ng 24 oras na pagmamanma...\n",
       "1077  BULKANG BULUSAN\\nBuod ng 24 oras na pagmamanma...\n",
       "1078  BULKANG TAAL\\nBuod ng 24 oras na pagmamanman\\n..."
      ],
      "text/html": "<div>\n<style scoped>\n    .dataframe tbody tr th:only-of-type {\n        vertical-align: middle;\n    }\n\n    .dataframe tbody tr th {\n        vertical-align: top;\n    }\n\n    .dataframe thead th {\n        text-align: right;\n    }\n</style>\n<table border=\"1\" class=\"dataframe\">\n  <thead>\n    <tr style=\"text-align: right;\">\n      <th></th>\n      <th>text</th>\n    </tr>\n  </thead>\n  <tbody>\n    <tr>\n      <th>1074</th>\n      <td>You may determine the intensity using the PHIV...</td>\n    </tr>\n    <tr>\n      <th>1075</th>\n      <td>#EarthquakePH #EarthquakeQuezon\\nEarthquake In...</td>\n    </tr>\n    <tr>\n      <th>1076</th>\n      <td>BULKANG KANLAON\\nBuod ng 24 oras na pagmamanma...</td>\n    </tr>\n    <tr>\n      <th>1077</th>\n      <td>BULKANG BULUSAN\\nBuod ng 24 oras na pagmamanma...</td>\n    </tr>\n    <tr>\n      <th>1078</th>\n      <td>BULKANG TAAL\\nBuod ng 24 oras na pagmamanman\\n...</td>\n    </tr>\n  </tbody>\n</table>\n</div>"
     },
     "metadata": {},
     "execution_count": 3
    }
   ],
   "source": [
    "tweets_text = []\n",
    "for tweet in paginator.flatten():\n",
    "    tweet_info = {'text': tweet.text}\n",
    "    tweets_text.append(tweet_info)\n",
    "\n",
    "df = pd.DataFrame(tweets_text)\n",
    "df.tail()"
   ]
  },
  {
   "cell_type": "code",
   "execution_count": 4,
   "metadata": {
    "tags": []
   },
   "outputs": [
    {
     "output_type": "execute_result",
     "data": {
      "text/plain": [
       "                                  0                            1  \\\n",
       "0     #EarthquakePH #EarthquakeAbra  Earthquake Information No.1   \n",
       "1     #EarthquakePH #EarthquakeAbra  Earthquake Information No.1   \n",
       "2     #EarthquakePH #EarthquakeAbra  Earthquake Information No.1   \n",
       "3     #EarthquakePH #EarthquakeAbra  Earthquake Information No.1   \n",
       "4     #EarthquakePH #EarthquakeAbra        #iFelt_AbraEarthquake   \n",
       "...                             ...                          ...   \n",
       "1065  #EarthquakePH #EarthquakeAbra  Earthquake Information No.1   \n",
       "1066  #EarthquakePH #EarthquakeAbra  Earthquake Information No.1   \n",
       "1070  #EarthquakePH #EarthquakeAbra        #iFelt_AbraEarthquake   \n",
       "1071  #EarthquakePH #EarthquakeAbra  Earthquake Information No.1   \n",
       "1073  #EarthquakePH #EarthquakeAbra        #iFelt_AbraEarthquake   \n",
       "\n",
       "                                             2  \\\n",
       "0     Date and Time: 04 August 2022 - 02:14 PM   \n",
       "1     Date and Time: 04 August 2022 - 01:53 PM   \n",
       "2     Date and Time: 04 August 2022 - 01:23 PM   \n",
       "3     Date and Time: 04 August 2022 - 01:16 PM   \n",
       "4                  Earthquake Information No.2   \n",
       "...                                        ...   \n",
       "1065    Date and Time: 27 July 2022 - 10:34 AM   \n",
       "1066    Date and Time: 27 July 2022 - 10:29 AM   \n",
       "1070               Earthquake Information No.2   \n",
       "1071    Date and Time: 27 July 2022 - 08:49 AM   \n",
       "1073               Earthquake Information No.1   \n",
       "\n",
       "                                             3                4  \\\n",
       "0                              Magnitude = 2.2   Depth = 031 km   \n",
       "1                              Magnitude = 2.1   Depth = 010 km   \n",
       "2                              Magnitude = 2.2   Depth = 002 km   \n",
       "3                              Magnitude = 1.7   Depth = 013 km   \n",
       "4     Date and Time: 03 August 2022 - 06:13 PM  Magnitude = 3.2   \n",
       "...                                        ...              ...   \n",
       "1065                           Magnitude = 2.9   Depth = 010 km   \n",
       "1066                           Magnitude = 3.4   Depth = 003 km   \n",
       "1070    Date and Time: 27 July 2022 - 08:43 AM  Magnitude = 7.0   \n",
       "1071                           Magnitude = 2.1   Depth = 029 km   \n",
       "1073    Date and Time: 27 July 2022 - 08:43 AM  Magnitude = 7.3   \n",
       "\n",
       "                                                      5  \\\n",
       "0     Location = 17.35°N, 120.67°E - 005 km N 37° W ...   \n",
       "1     Location = 17.51°N, 120.85°E - 010 km N 53° W ...   \n",
       "2     Location = 17.51°N, 120.68°E - 013 km S 14° E ...   \n",
       "3     Location = 17.55°N, 120.73°E - 011 km S 49° E ...   \n",
       "4                                        Depth = 005 km   \n",
       "...                                                 ...   \n",
       "1065  Location = 17.56°N, 120.64°E - 006 km S 18° W ...   \n",
       "1066  Location = 17.60°N, 120.55°E - 011 km S 80° W ...   \n",
       "1070                                     Depth = 017 km   \n",
       "1071  Location = 17.77°N, 120.65°E - 008 km N 11° W ...   \n",
       "1073                                     Depth = 025 km   \n",
       "\n",
       "                                                      6  \\\n",
       "0                                                         \n",
       "1                                                         \n",
       "2                                                         \n",
       "3                                                         \n",
       "4     Location = 17.61°N, 120.73°E - 008 km S 85° E ...   \n",
       "...                                                 ...   \n",
       "1065                                                      \n",
       "1066                                                      \n",
       "1070  Location = 17.64°N, 120.63°E - 003 km N 45° W ...   \n",
       "1071                                                      \n",
       "1073  Location = 17.63°N, 120.74°E - 002 km N 20° E ...   \n",
       "\n",
       "                                                    7  \\\n",
       "0     https://t.co/k7SHchB0jw https://t.co/cASE7edEPA   \n",
       "1     https://t.co/WQihVNwRiu https://t.co/avPoh3zciC   \n",
       "2     https://t.co/DBxyVTz2S5 https://t.co/mh4AyRLm0V   \n",
       "3     https://t.co/Kqhy2gjqnv https://t.co/r4IV56N1tH   \n",
       "4                                                       \n",
       "...                                               ...   \n",
       "1065  https://t.co/L2QOdbJZWQ https://t.co/G5N1bNE2TF   \n",
       "1066  https://t.co/XUpdCCb0GZ https://t.co/hQmZbTI6bT   \n",
       "1070                                                    \n",
       "1071  https://t.co/GYaalRnuD5 https://t.co/banSXELfWE   \n",
       "1073                                                    \n",
       "\n",
       "                                                    8     9    10  \n",
       "0                                                None  None  None  \n",
       "1                                                None  None  None  \n",
       "2                                                None  None  None  \n",
       "3                                                None  None  None  \n",
       "4     https://t.co/g8l3bdKFqx https://t.co/sQ1Wbn2LfU  None  None  \n",
       "...                                               ...   ...   ...  \n",
       "1065                                             None  None  None  \n",
       "1066                                             None  None  None  \n",
       "1070  https://t.co/e4r6dLuCd2 https://t.co/sUit7vM2Mc  None  None  \n",
       "1071                                             None  None  None  \n",
       "1073  https://t.co/3956JHaXeR https://t.co/132uDTgdhW  None  None  \n",
       "\n",
       "[637 rows x 11 columns]"
      ],
      "text/html": "<div>\n<style scoped>\n    .dataframe tbody tr th:only-of-type {\n        vertical-align: middle;\n    }\n\n    .dataframe tbody tr th {\n        vertical-align: top;\n    }\n\n    .dataframe thead th {\n        text-align: right;\n    }\n</style>\n<table border=\"1\" class=\"dataframe\">\n  <thead>\n    <tr style=\"text-align: right;\">\n      <th></th>\n      <th>0</th>\n      <th>1</th>\n      <th>2</th>\n      <th>3</th>\n      <th>4</th>\n      <th>5</th>\n      <th>6</th>\n      <th>7</th>\n      <th>8</th>\n      <th>9</th>\n      <th>10</th>\n    </tr>\n  </thead>\n  <tbody>\n    <tr>\n      <th>0</th>\n      <td>#EarthquakePH #EarthquakeAbra</td>\n      <td>Earthquake Information No.1</td>\n      <td>Date and Time: 04 August 2022 - 02:14 PM</td>\n      <td>Magnitude = 2.2</td>\n      <td>Depth = 031 km</td>\n      <td>Location = 17.35°N, 120.67°E - 005 km N 37° W ...</td>\n      <td></td>\n      <td>https://t.co/k7SHchB0jw https://t.co/cASE7edEPA</td>\n      <td>None</td>\n      <td>None</td>\n      <td>None</td>\n    </tr>\n    <tr>\n      <th>1</th>\n      <td>#EarthquakePH #EarthquakeAbra</td>\n      <td>Earthquake Information No.1</td>\n      <td>Date and Time: 04 August 2022 - 01:53 PM</td>\n      <td>Magnitude = 2.1</td>\n      <td>Depth = 010 km</td>\n      <td>Location = 17.51°N, 120.85°E - 010 km N 53° W ...</td>\n      <td></td>\n      <td>https://t.co/WQihVNwRiu https://t.co/avPoh3zciC</td>\n      <td>None</td>\n      <td>None</td>\n      <td>None</td>\n    </tr>\n    <tr>\n      <th>2</th>\n      <td>#EarthquakePH #EarthquakeAbra</td>\n      <td>Earthquake Information No.1</td>\n      <td>Date and Time: 04 August 2022 - 01:23 PM</td>\n      <td>Magnitude = 2.2</td>\n      <td>Depth = 002 km</td>\n      <td>Location = 17.51°N, 120.68°E - 013 km S 14° E ...</td>\n      <td></td>\n      <td>https://t.co/DBxyVTz2S5 https://t.co/mh4AyRLm0V</td>\n      <td>None</td>\n      <td>None</td>\n      <td>None</td>\n    </tr>\n    <tr>\n      <th>3</th>\n      <td>#EarthquakePH #EarthquakeAbra</td>\n      <td>Earthquake Information No.1</td>\n      <td>Date and Time: 04 August 2022 - 01:16 PM</td>\n      <td>Magnitude = 1.7</td>\n      <td>Depth = 013 km</td>\n      <td>Location = 17.55°N, 120.73°E - 011 km S 49° E ...</td>\n      <td></td>\n      <td>https://t.co/Kqhy2gjqnv https://t.co/r4IV56N1tH</td>\n      <td>None</td>\n      <td>None</td>\n      <td>None</td>\n    </tr>\n    <tr>\n      <th>4</th>\n      <td>#EarthquakePH #EarthquakeAbra</td>\n      <td>#iFelt_AbraEarthquake</td>\n      <td>Earthquake Information No.2</td>\n      <td>Date and Time: 03 August 2022 - 06:13 PM</td>\n      <td>Magnitude = 3.2</td>\n      <td>Depth = 005 km</td>\n      <td>Location = 17.61°N, 120.73°E - 008 km S 85° E ...</td>\n      <td></td>\n      <td>https://t.co/g8l3bdKFqx https://t.co/sQ1Wbn2LfU</td>\n      <td>None</td>\n      <td>None</td>\n    </tr>\n    <tr>\n      <th>...</th>\n      <td>...</td>\n      <td>...</td>\n      <td>...</td>\n      <td>...</td>\n      <td>...</td>\n      <td>...</td>\n      <td>...</td>\n      <td>...</td>\n      <td>...</td>\n      <td>...</td>\n      <td>...</td>\n    </tr>\n    <tr>\n      <th>1065</th>\n      <td>#EarthquakePH #EarthquakeAbra</td>\n      <td>Earthquake Information No.1</td>\n      <td>Date and Time: 27 July 2022 - 10:34 AM</td>\n      <td>Magnitude = 2.9</td>\n      <td>Depth = 010 km</td>\n      <td>Location = 17.56°N, 120.64°E - 006 km S 18° W ...</td>\n      <td></td>\n      <td>https://t.co/L2QOdbJZWQ https://t.co/G5N1bNE2TF</td>\n      <td>None</td>\n      <td>None</td>\n      <td>None</td>\n    </tr>\n    <tr>\n      <th>1066</th>\n      <td>#EarthquakePH #EarthquakeAbra</td>\n      <td>Earthquake Information No.1</td>\n      <td>Date and Time: 27 July 2022 - 10:29 AM</td>\n      <td>Magnitude = 3.4</td>\n      <td>Depth = 003 km</td>\n      <td>Location = 17.60°N, 120.55°E - 011 km S 80° W ...</td>\n      <td></td>\n      <td>https://t.co/XUpdCCb0GZ https://t.co/hQmZbTI6bT</td>\n      <td>None</td>\n      <td>None</td>\n      <td>None</td>\n    </tr>\n    <tr>\n      <th>1070</th>\n      <td>#EarthquakePH #EarthquakeAbra</td>\n      <td>#iFelt_AbraEarthquake</td>\n      <td>Earthquake Information No.2</td>\n      <td>Date and Time: 27 July 2022 - 08:43 AM</td>\n      <td>Magnitude = 7.0</td>\n      <td>Depth = 017 km</td>\n      <td>Location = 17.64°N, 120.63°E - 003 km N 45° W ...</td>\n      <td></td>\n      <td>https://t.co/e4r6dLuCd2 https://t.co/sUit7vM2Mc</td>\n      <td>None</td>\n      <td>None</td>\n    </tr>\n    <tr>\n      <th>1071</th>\n      <td>#EarthquakePH #EarthquakeAbra</td>\n      <td>Earthquake Information No.1</td>\n      <td>Date and Time: 27 July 2022 - 08:49 AM</td>\n      <td>Magnitude = 2.1</td>\n      <td>Depth = 029 km</td>\n      <td>Location = 17.77°N, 120.65°E - 008 km N 11° W ...</td>\n      <td></td>\n      <td>https://t.co/GYaalRnuD5 https://t.co/banSXELfWE</td>\n      <td>None</td>\n      <td>None</td>\n      <td>None</td>\n    </tr>\n    <tr>\n      <th>1073</th>\n      <td>#EarthquakePH #EarthquakeAbra</td>\n      <td>#iFelt_AbraEarthquake</td>\n      <td>Earthquake Information No.1</td>\n      <td>Date and Time: 27 July 2022 - 08:43 AM</td>\n      <td>Magnitude = 7.3</td>\n      <td>Depth = 025 km</td>\n      <td>Location = 17.63°N, 120.74°E - 002 km N 20° E ...</td>\n      <td></td>\n      <td>https://t.co/3956JHaXeR https://t.co/132uDTgdhW</td>\n      <td>None</td>\n      <td>None</td>\n    </tr>\n  </tbody>\n</table>\n<p>637 rows × 11 columns</p>\n</div>"
     },
     "metadata": {},
     "execution_count": 4
    }
   ],
   "source": [
    "df_abra = df[df['text'].str.contains('abra', case=False)]\n",
    "df_abra = df_abra['text'].str.split('\\n', expand=True)\n",
    "df_abra = df_abra[df_abra[0] == '#EarthquakePH #EarthquakeAbra']\n",
    "df_abra"
   ]
  },
  {
   "cell_type": "code",
   "execution_count": 5,
   "metadata": {},
   "outputs": [
    {
     "output_type": "execute_result",
     "data": {
      "text/plain": [
       "                                  0                            1  \\\n",
       "0     #EarthquakePH #EarthquakeAbra  Earthquake Information No.1   \n",
       "1     #EarthquakePH #EarthquakeAbra  Earthquake Information No.1   \n",
       "2     #EarthquakePH #EarthquakeAbra  Earthquake Information No.1   \n",
       "3     #EarthquakePH #EarthquakeAbra  Earthquake Information No.1   \n",
       "5     #EarthquakePH #EarthquakeAbra  Earthquake Information No.1   \n",
       "...                             ...                          ...   \n",
       "1056  #EarthquakePH #EarthquakeAbra  Earthquake Information No.1   \n",
       "1063  #EarthquakePH #EarthquakeAbra  Earthquake Information No.1   \n",
       "1065  #EarthquakePH #EarthquakeAbra  Earthquake Information No.1   \n",
       "1066  #EarthquakePH #EarthquakeAbra  Earthquake Information No.1   \n",
       "1071  #EarthquakePH #EarthquakeAbra  Earthquake Information No.1   \n",
       "\n",
       "                                             2                3  \\\n",
       "0     Date and Time: 04 August 2022 - 02:14 PM  Magnitude = 2.2   \n",
       "1     Date and Time: 04 August 2022 - 01:53 PM  Magnitude = 2.1   \n",
       "2     Date and Time: 04 August 2022 - 01:23 PM  Magnitude = 2.2   \n",
       "3     Date and Time: 04 August 2022 - 01:16 PM  Magnitude = 1.7   \n",
       "5     Date and Time: 04 August 2022 - 01:04 PM  Magnitude = 2.1   \n",
       "...                                        ...              ...   \n",
       "1056    Date and Time: 27 July 2022 - 11:40 AM  Magnitude = 2.1   \n",
       "1063    Date and Time: 27 July 2022 - 10:58 AM  Magnitude = 3.1   \n",
       "1065    Date and Time: 27 July 2022 - 10:34 AM  Magnitude = 2.9   \n",
       "1066    Date and Time: 27 July 2022 - 10:29 AM  Magnitude = 3.4   \n",
       "1071    Date and Time: 27 July 2022 - 08:49 AM  Magnitude = 2.1   \n",
       "\n",
       "                   4                                                  5 6   \\\n",
       "0     Depth = 031 km  Location = 17.35°N, 120.67°E - 005 km N 37° W ...      \n",
       "1     Depth = 010 km  Location = 17.51°N, 120.85°E - 010 km N 53° W ...      \n",
       "2     Depth = 002 km  Location = 17.51°N, 120.68°E - 013 km S 14° E ...      \n",
       "3     Depth = 013 km  Location = 17.55°N, 120.73°E - 011 km S 49° E ...      \n",
       "5     Depth = 014 km  Location = 17.24°N, 120.72°E - 002 km S 03° W ...      \n",
       "...              ...                                                ... ..   \n",
       "1056  Depth = 020 km  Location = 17.56°N, 120.66°E - 006 km S 07° E ...      \n",
       "1063  Depth = 002 km  Location = 17.54°N, 120.57°E - 013 km S 47° W ...      \n",
       "1065  Depth = 010 km  Location = 17.56°N, 120.64°E - 006 km S 18° W ...      \n",
       "1066  Depth = 003 km  Location = 17.60°N, 120.55°E - 011 km S 80° W ...      \n",
       "1071  Depth = 029 km  Location = 17.77°N, 120.65°E - 008 km N 11° W ...      \n",
       "\n",
       "                                                    7     8     9    10  \n",
       "0     https://t.co/k7SHchB0jw https://t.co/cASE7edEPA  None  None  None  \n",
       "1     https://t.co/WQihVNwRiu https://t.co/avPoh3zciC  None  None  None  \n",
       "2     https://t.co/DBxyVTz2S5 https://t.co/mh4AyRLm0V  None  None  None  \n",
       "3     https://t.co/Kqhy2gjqnv https://t.co/r4IV56N1tH  None  None  None  \n",
       "5     https://t.co/8pDihHfzDU https://t.co/MRcpAEEoYV  None  None  None  \n",
       "...                                               ...   ...   ...   ...  \n",
       "1056  https://t.co/RlFoMFJjnR https://t.co/vwHen6DPqC  None  None  None  \n",
       "1063  https://t.co/q31V85kSYe https://t.co/9GSsKnupzg  None  None  None  \n",
       "1065  https://t.co/L2QOdbJZWQ https://t.co/G5N1bNE2TF  None  None  None  \n",
       "1066  https://t.co/XUpdCCb0GZ https://t.co/hQmZbTI6bT  None  None  None  \n",
       "1071  https://t.co/GYaalRnuD5 https://t.co/banSXELfWE  None  None  None  \n",
       "\n",
       "[574 rows x 11 columns]"
      ],
      "text/html": "<div>\n<style scoped>\n    .dataframe tbody tr th:only-of-type {\n        vertical-align: middle;\n    }\n\n    .dataframe tbody tr th {\n        vertical-align: top;\n    }\n\n    .dataframe thead th {\n        text-align: right;\n    }\n</style>\n<table border=\"1\" class=\"dataframe\">\n  <thead>\n    <tr style=\"text-align: right;\">\n      <th></th>\n      <th>0</th>\n      <th>1</th>\n      <th>2</th>\n      <th>3</th>\n      <th>4</th>\n      <th>5</th>\n      <th>6</th>\n      <th>7</th>\n      <th>8</th>\n      <th>9</th>\n      <th>10</th>\n    </tr>\n  </thead>\n  <tbody>\n    <tr>\n      <th>0</th>\n      <td>#EarthquakePH #EarthquakeAbra</td>\n      <td>Earthquake Information No.1</td>\n      <td>Date and Time: 04 August 2022 - 02:14 PM</td>\n      <td>Magnitude = 2.2</td>\n      <td>Depth = 031 km</td>\n      <td>Location = 17.35°N, 120.67°E - 005 km N 37° W ...</td>\n      <td></td>\n      <td>https://t.co/k7SHchB0jw https://t.co/cASE7edEPA</td>\n      <td>None</td>\n      <td>None</td>\n      <td>None</td>\n    </tr>\n    <tr>\n      <th>1</th>\n      <td>#EarthquakePH #EarthquakeAbra</td>\n      <td>Earthquake Information No.1</td>\n      <td>Date and Time: 04 August 2022 - 01:53 PM</td>\n      <td>Magnitude = 2.1</td>\n      <td>Depth = 010 km</td>\n      <td>Location = 17.51°N, 120.85°E - 010 km N 53° W ...</td>\n      <td></td>\n      <td>https://t.co/WQihVNwRiu https://t.co/avPoh3zciC</td>\n      <td>None</td>\n      <td>None</td>\n      <td>None</td>\n    </tr>\n    <tr>\n      <th>2</th>\n      <td>#EarthquakePH #EarthquakeAbra</td>\n      <td>Earthquake Information No.1</td>\n      <td>Date and Time: 04 August 2022 - 01:23 PM</td>\n      <td>Magnitude = 2.2</td>\n      <td>Depth = 002 km</td>\n      <td>Location = 17.51°N, 120.68°E - 013 km S 14° E ...</td>\n      <td></td>\n      <td>https://t.co/DBxyVTz2S5 https://t.co/mh4AyRLm0V</td>\n      <td>None</td>\n      <td>None</td>\n      <td>None</td>\n    </tr>\n    <tr>\n      <th>3</th>\n      <td>#EarthquakePH #EarthquakeAbra</td>\n      <td>Earthquake Information No.1</td>\n      <td>Date and Time: 04 August 2022 - 01:16 PM</td>\n      <td>Magnitude = 1.7</td>\n      <td>Depth = 013 km</td>\n      <td>Location = 17.55°N, 120.73°E - 011 km S 49° E ...</td>\n      <td></td>\n      <td>https://t.co/Kqhy2gjqnv https://t.co/r4IV56N1tH</td>\n      <td>None</td>\n      <td>None</td>\n      <td>None</td>\n    </tr>\n    <tr>\n      <th>5</th>\n      <td>#EarthquakePH #EarthquakeAbra</td>\n      <td>Earthquake Information No.1</td>\n      <td>Date and Time: 04 August 2022 - 01:04 PM</td>\n      <td>Magnitude = 2.1</td>\n      <td>Depth = 014 km</td>\n      <td>Location = 17.24°N, 120.72°E - 002 km S 03° W ...</td>\n      <td></td>\n      <td>https://t.co/8pDihHfzDU https://t.co/MRcpAEEoYV</td>\n      <td>None</td>\n      <td>None</td>\n      <td>None</td>\n    </tr>\n    <tr>\n      <th>...</th>\n      <td>...</td>\n      <td>...</td>\n      <td>...</td>\n      <td>...</td>\n      <td>...</td>\n      <td>...</td>\n      <td>...</td>\n      <td>...</td>\n      <td>...</td>\n      <td>...</td>\n      <td>...</td>\n    </tr>\n    <tr>\n      <th>1056</th>\n      <td>#EarthquakePH #EarthquakeAbra</td>\n      <td>Earthquake Information No.1</td>\n      <td>Date and Time: 27 July 2022 - 11:40 AM</td>\n      <td>Magnitude = 2.1</td>\n      <td>Depth = 020 km</td>\n      <td>Location = 17.56°N, 120.66°E - 006 km S 07° E ...</td>\n      <td></td>\n      <td>https://t.co/RlFoMFJjnR https://t.co/vwHen6DPqC</td>\n      <td>None</td>\n      <td>None</td>\n      <td>None</td>\n    </tr>\n    <tr>\n      <th>1063</th>\n      <td>#EarthquakePH #EarthquakeAbra</td>\n      <td>Earthquake Information No.1</td>\n      <td>Date and Time: 27 July 2022 - 10:58 AM</td>\n      <td>Magnitude = 3.1</td>\n      <td>Depth = 002 km</td>\n      <td>Location = 17.54°N, 120.57°E - 013 km S 47° W ...</td>\n      <td></td>\n      <td>https://t.co/q31V85kSYe https://t.co/9GSsKnupzg</td>\n      <td>None</td>\n      <td>None</td>\n      <td>None</td>\n    </tr>\n    <tr>\n      <th>1065</th>\n      <td>#EarthquakePH #EarthquakeAbra</td>\n      <td>Earthquake Information No.1</td>\n      <td>Date and Time: 27 July 2022 - 10:34 AM</td>\n      <td>Magnitude = 2.9</td>\n      <td>Depth = 010 km</td>\n      <td>Location = 17.56°N, 120.64°E - 006 km S 18° W ...</td>\n      <td></td>\n      <td>https://t.co/L2QOdbJZWQ https://t.co/G5N1bNE2TF</td>\n      <td>None</td>\n      <td>None</td>\n      <td>None</td>\n    </tr>\n    <tr>\n      <th>1066</th>\n      <td>#EarthquakePH #EarthquakeAbra</td>\n      <td>Earthquake Information No.1</td>\n      <td>Date and Time: 27 July 2022 - 10:29 AM</td>\n      <td>Magnitude = 3.4</td>\n      <td>Depth = 003 km</td>\n      <td>Location = 17.60°N, 120.55°E - 011 km S 80° W ...</td>\n      <td></td>\n      <td>https://t.co/XUpdCCb0GZ https://t.co/hQmZbTI6bT</td>\n      <td>None</td>\n      <td>None</td>\n      <td>None</td>\n    </tr>\n    <tr>\n      <th>1071</th>\n      <td>#EarthquakePH #EarthquakeAbra</td>\n      <td>Earthquake Information No.1</td>\n      <td>Date and Time: 27 July 2022 - 08:49 AM</td>\n      <td>Magnitude = 2.1</td>\n      <td>Depth = 029 km</td>\n      <td>Location = 17.77°N, 120.65°E - 008 km N 11° W ...</td>\n      <td></td>\n      <td>https://t.co/GYaalRnuD5 https://t.co/banSXELfWE</td>\n      <td>None</td>\n      <td>None</td>\n      <td>None</td>\n    </tr>\n  </tbody>\n</table>\n<p>574 rows × 11 columns</p>\n</div>"
     },
     "metadata": {},
     "execution_count": 5
    }
   ],
   "source": [
    "df_abra_noshift = df_abra[df_abra[1].str.contains('information', case=False)]\n",
    "df_abra_noshift"
   ]
  },
  {
   "cell_type": "code",
   "execution_count": 6,
   "metadata": {},
   "outputs": [
    {
     "output_type": "execute_result",
     "data": {
      "text/plain": [
       "                                  0                      1  \\\n",
       "4     #EarthquakePH #EarthquakeAbra  #iFelt_AbraEarthquake   \n",
       "72    #EarthquakePH #EarthquakeAbra  #iFelt_AbraEarthquake   \n",
       "214   #EarthquakePH #EarthquakeAbra  #iFelt_AbraEarthquake   \n",
       "223   #EarthquakePH #EarthquakeAbra  #iFelt_AbraEarthquake   \n",
       "255   #EarthquakePH #EarthquakeAbra  #iFelt_AbraEarthquake   \n",
       "...                             ...                    ...   \n",
       "1060  #EarthquakePH #EarthquakeAbra  #iFelt_AbraEarthquake   \n",
       "1061  #EarthquakePH #EarthquakeAbra  #iFelt_AbraEarthquake   \n",
       "1064  #EarthquakePH #EarthquakeAbra  #iFelt_AbraEarthquake   \n",
       "1070  #EarthquakePH #EarthquakeAbra  #iFelt_AbraEarthquake   \n",
       "1073  #EarthquakePH #EarthquakeAbra  #iFelt_AbraEarthquake   \n",
       "\n",
       "                                2                                         3  \\\n",
       "4     Earthquake Information No.2  Date and Time: 03 August 2022 - 06:13 PM   \n",
       "72    Earthquake Information No.1  Date and Time: 03 August 2022 - 06:13 PM   \n",
       "214   Earthquake Information No.1  Date and Time: 02 August 2022 - 04:32 AM   \n",
       "223   Earthquake Information No.1  Date and Time: 02 August 2022 - 02:17 AM   \n",
       "255   Earthquake Information No.3  Date and Time: 01 August 2022 - 02:48 AM   \n",
       "...                           ...                                       ...   \n",
       "1060  Earthquake Information No.1    Date and Time: 27 July 2022 - 11:28 AM   \n",
       "1061  Earthquake Information No.1    Date and Time: 27 July 2022 - 11:14 AM   \n",
       "1064  Earthquake Information No.1    Date and Time: 27 July 2022 - 10:50 AM   \n",
       "1070  Earthquake Information No.2    Date and Time: 27 July 2022 - 08:43 AM   \n",
       "1073  Earthquake Information No.1    Date and Time: 27 July 2022 - 08:43 AM   \n",
       "\n",
       "                    4               5  \\\n",
       "4     Magnitude = 3.2  Depth = 005 km   \n",
       "72    Magnitude = 3.2  Depth = 001 km   \n",
       "214   Magnitude = 3.9  Depth = 018 km   \n",
       "223   Magnitude = 3.2  Depth = 015 km   \n",
       "255   Magnitude = 5.1  Depth = 011 km   \n",
       "...               ...             ...   \n",
       "1060  Magnitude = 4.7  Depth = 001 km   \n",
       "1061  Magnitude = 4.4  Depth = 005 km   \n",
       "1064  Magnitude = 4.0  Depth = 001 km   \n",
       "1070  Magnitude = 7.0  Depth = 017 km   \n",
       "1073  Magnitude = 7.3  Depth = 025 km   \n",
       "\n",
       "                                                      6 7   \\\n",
       "4     Location = 17.61°N, 120.73°E - 008 km S 85° E ...      \n",
       "72    Location = 17.62°N, 120.54°E - 005 km N 28° W ...      \n",
       "214   Location = 17.61°N, 120.54°E - 012 km S 88° W ...      \n",
       "223   Location = 17.71°N, 120.67°E - 010 km N 09° E ...      \n",
       "255   Location = 17.43°N, 120.62°E - 002 km S 72° E ...      \n",
       "...                                                 ... ..   \n",
       "1060  Location = 17.60°N, 120.62°E - 004 km S 59° W ...      \n",
       "1061  Location = 17.52°N, 120.59°E - 013 km S 31° W ...      \n",
       "1064  Location = 17.58°N, 120.52°E - 014 km S 72° W ...      \n",
       "1070  Location = 17.64°N, 120.63°E - 003 km N 45° W ...      \n",
       "1073  Location = 17.63°N, 120.74°E - 002 km N 20° E ...      \n",
       "\n",
       "                                                    8     9    10  \n",
       "4     https://t.co/g8l3bdKFqx https://t.co/sQ1Wbn2LfU  None  None  \n",
       "72    https://t.co/ShBtRLEb9U https://t.co/6rzKW5Ckgy  None  None  \n",
       "214   https://t.co/RQFoU2KhSs https://t.co/O1JJ1gabY0  None  None  \n",
       "223   https://t.co/t2DyPvMveG https://t.co/y9fgrZM8jR  None  None  \n",
       "255   https://t.co/9bUxD0SwrQ https://t.co/w3OytxAoHb  None  None  \n",
       "...                                               ...   ...   ...  \n",
       "1060  https://t.co/2JPo1AyRPJ https://t.co/kbRYw7xxdk  None  None  \n",
       "1061  https://t.co/Ed1P9laTSx https://t.co/hLneJpmPZ5  None  None  \n",
       "1064                          https://t.co/bXCbbtsFZA  None  None  \n",
       "1070  https://t.co/e4r6dLuCd2 https://t.co/sUit7vM2Mc  None  None  \n",
       "1073  https://t.co/3956JHaXeR https://t.co/132uDTgdhW  None  None  \n",
       "\n",
       "[63 rows x 11 columns]"
      ],
      "text/html": "<div>\n<style scoped>\n    .dataframe tbody tr th:only-of-type {\n        vertical-align: middle;\n    }\n\n    .dataframe tbody tr th {\n        vertical-align: top;\n    }\n\n    .dataframe thead th {\n        text-align: right;\n    }\n</style>\n<table border=\"1\" class=\"dataframe\">\n  <thead>\n    <tr style=\"text-align: right;\">\n      <th></th>\n      <th>0</th>\n      <th>1</th>\n      <th>2</th>\n      <th>3</th>\n      <th>4</th>\n      <th>5</th>\n      <th>6</th>\n      <th>7</th>\n      <th>8</th>\n      <th>9</th>\n      <th>10</th>\n    </tr>\n  </thead>\n  <tbody>\n    <tr>\n      <th>4</th>\n      <td>#EarthquakePH #EarthquakeAbra</td>\n      <td>#iFelt_AbraEarthquake</td>\n      <td>Earthquake Information No.2</td>\n      <td>Date and Time: 03 August 2022 - 06:13 PM</td>\n      <td>Magnitude = 3.2</td>\n      <td>Depth = 005 km</td>\n      <td>Location = 17.61°N, 120.73°E - 008 km S 85° E ...</td>\n      <td></td>\n      <td>https://t.co/g8l3bdKFqx https://t.co/sQ1Wbn2LfU</td>\n      <td>None</td>\n      <td>None</td>\n    </tr>\n    <tr>\n      <th>72</th>\n      <td>#EarthquakePH #EarthquakeAbra</td>\n      <td>#iFelt_AbraEarthquake</td>\n      <td>Earthquake Information No.1</td>\n      <td>Date and Time: 03 August 2022 - 06:13 PM</td>\n      <td>Magnitude = 3.2</td>\n      <td>Depth = 001 km</td>\n      <td>Location = 17.62°N, 120.54°E - 005 km N 28° W ...</td>\n      <td></td>\n      <td>https://t.co/ShBtRLEb9U https://t.co/6rzKW5Ckgy</td>\n      <td>None</td>\n      <td>None</td>\n    </tr>\n    <tr>\n      <th>214</th>\n      <td>#EarthquakePH #EarthquakeAbra</td>\n      <td>#iFelt_AbraEarthquake</td>\n      <td>Earthquake Information No.1</td>\n      <td>Date and Time: 02 August 2022 - 04:32 AM</td>\n      <td>Magnitude = 3.9</td>\n      <td>Depth = 018 km</td>\n      <td>Location = 17.61°N, 120.54°E - 012 km S 88° W ...</td>\n      <td></td>\n      <td>https://t.co/RQFoU2KhSs https://t.co/O1JJ1gabY0</td>\n      <td>None</td>\n      <td>None</td>\n    </tr>\n    <tr>\n      <th>223</th>\n      <td>#EarthquakePH #EarthquakeAbra</td>\n      <td>#iFelt_AbraEarthquake</td>\n      <td>Earthquake Information No.1</td>\n      <td>Date and Time: 02 August 2022 - 02:17 AM</td>\n      <td>Magnitude = 3.2</td>\n      <td>Depth = 015 km</td>\n      <td>Location = 17.71°N, 120.67°E - 010 km N 09° E ...</td>\n      <td></td>\n      <td>https://t.co/t2DyPvMveG https://t.co/y9fgrZM8jR</td>\n      <td>None</td>\n      <td>None</td>\n    </tr>\n    <tr>\n      <th>255</th>\n      <td>#EarthquakePH #EarthquakeAbra</td>\n      <td>#iFelt_AbraEarthquake</td>\n      <td>Earthquake Information No.3</td>\n      <td>Date and Time: 01 August 2022 - 02:48 AM</td>\n      <td>Magnitude = 5.1</td>\n      <td>Depth = 011 km</td>\n      <td>Location = 17.43°N, 120.62°E - 002 km S 72° E ...</td>\n      <td></td>\n      <td>https://t.co/9bUxD0SwrQ https://t.co/w3OytxAoHb</td>\n      <td>None</td>\n      <td>None</td>\n    </tr>\n    <tr>\n      <th>...</th>\n      <td>...</td>\n      <td>...</td>\n      <td>...</td>\n      <td>...</td>\n      <td>...</td>\n      <td>...</td>\n      <td>...</td>\n      <td>...</td>\n      <td>...</td>\n      <td>...</td>\n      <td>...</td>\n    </tr>\n    <tr>\n      <th>1060</th>\n      <td>#EarthquakePH #EarthquakeAbra</td>\n      <td>#iFelt_AbraEarthquake</td>\n      <td>Earthquake Information No.1</td>\n      <td>Date and Time: 27 July 2022 - 11:28 AM</td>\n      <td>Magnitude = 4.7</td>\n      <td>Depth = 001 km</td>\n      <td>Location = 17.60°N, 120.62°E - 004 km S 59° W ...</td>\n      <td></td>\n      <td>https://t.co/2JPo1AyRPJ https://t.co/kbRYw7xxdk</td>\n      <td>None</td>\n      <td>None</td>\n    </tr>\n    <tr>\n      <th>1061</th>\n      <td>#EarthquakePH #EarthquakeAbra</td>\n      <td>#iFelt_AbraEarthquake</td>\n      <td>Earthquake Information No.1</td>\n      <td>Date and Time: 27 July 2022 - 11:14 AM</td>\n      <td>Magnitude = 4.4</td>\n      <td>Depth = 005 km</td>\n      <td>Location = 17.52°N, 120.59°E - 013 km S 31° W ...</td>\n      <td></td>\n      <td>https://t.co/Ed1P9laTSx https://t.co/hLneJpmPZ5</td>\n      <td>None</td>\n      <td>None</td>\n    </tr>\n    <tr>\n      <th>1064</th>\n      <td>#EarthquakePH #EarthquakeAbra</td>\n      <td>#iFelt_AbraEarthquake</td>\n      <td>Earthquake Information No.1</td>\n      <td>Date and Time: 27 July 2022 - 10:50 AM</td>\n      <td>Magnitude = 4.0</td>\n      <td>Depth = 001 km</td>\n      <td>Location = 17.58°N, 120.52°E - 014 km S 72° W ...</td>\n      <td></td>\n      <td>https://t.co/bXCbbtsFZA</td>\n      <td>None</td>\n      <td>None</td>\n    </tr>\n    <tr>\n      <th>1070</th>\n      <td>#EarthquakePH #EarthquakeAbra</td>\n      <td>#iFelt_AbraEarthquake</td>\n      <td>Earthquake Information No.2</td>\n      <td>Date and Time: 27 July 2022 - 08:43 AM</td>\n      <td>Magnitude = 7.0</td>\n      <td>Depth = 017 km</td>\n      <td>Location = 17.64°N, 120.63°E - 003 km N 45° W ...</td>\n      <td></td>\n      <td>https://t.co/e4r6dLuCd2 https://t.co/sUit7vM2Mc</td>\n      <td>None</td>\n      <td>None</td>\n    </tr>\n    <tr>\n      <th>1073</th>\n      <td>#EarthquakePH #EarthquakeAbra</td>\n      <td>#iFelt_AbraEarthquake</td>\n      <td>Earthquake Information No.1</td>\n      <td>Date and Time: 27 July 2022 - 08:43 AM</td>\n      <td>Magnitude = 7.3</td>\n      <td>Depth = 025 km</td>\n      <td>Location = 17.63°N, 120.74°E - 002 km N 20° E ...</td>\n      <td></td>\n      <td>https://t.co/3956JHaXeR https://t.co/132uDTgdhW</td>\n      <td>None</td>\n      <td>None</td>\n    </tr>\n  </tbody>\n</table>\n<p>63 rows × 11 columns</p>\n</div>"
     },
     "metadata": {},
     "execution_count": 6
    }
   ],
   "source": [
    "df_abra_shift = df_abra[~df_abra[1].str.contains('information', case=False)]\n",
    "df_abra_shift"
   ]
  },
  {
   "cell_type": "code",
   "execution_count": 7,
   "metadata": {},
   "outputs": [
    {
     "output_type": "execute_result",
     "data": {
      "text/plain": [
       "                        info_num                                 date_time  \\\n",
       "0    Earthquake Information No.1  Date and Time: 04 August 2022 - 02:14 PM   \n",
       "1    Earthquake Information No.1  Date and Time: 04 August 2022 - 01:53 PM   \n",
       "2    Earthquake Information No.1  Date and Time: 04 August 2022 - 01:23 PM   \n",
       "3    Earthquake Information No.1  Date and Time: 04 August 2022 - 01:16 PM   \n",
       "4    Earthquake Information No.1  Date and Time: 04 August 2022 - 01:04 PM   \n",
       "..                           ...                                       ...   \n",
       "632  Earthquake Information No.1    Date and Time: 27 July 2022 - 11:28 AM   \n",
       "633  Earthquake Information No.1    Date and Time: 27 July 2022 - 11:14 AM   \n",
       "634  Earthquake Information No.1    Date and Time: 27 July 2022 - 10:50 AM   \n",
       "635  Earthquake Information No.2    Date and Time: 27 July 2022 - 08:43 AM   \n",
       "636  Earthquake Information No.1    Date and Time: 27 July 2022 - 08:43 AM   \n",
       "\n",
       "           magnitude           depth  \\\n",
       "0    Magnitude = 2.2  Depth = 031 km   \n",
       "1    Magnitude = 2.1  Depth = 010 km   \n",
       "2    Magnitude = 2.2  Depth = 002 km   \n",
       "3    Magnitude = 1.7  Depth = 013 km   \n",
       "4    Magnitude = 2.1  Depth = 014 km   \n",
       "..               ...             ...   \n",
       "632  Magnitude = 4.7  Depth = 001 km   \n",
       "633  Magnitude = 4.4  Depth = 005 km   \n",
       "634  Magnitude = 4.0  Depth = 001 km   \n",
       "635  Magnitude = 7.0  Depth = 017 km   \n",
       "636  Magnitude = 7.3  Depth = 025 km   \n",
       "\n",
       "                                              location  \n",
       "0    Location = 17.35°N, 120.67°E - 005 km N 37° W ...  \n",
       "1    Location = 17.51°N, 120.85°E - 010 km N 53° W ...  \n",
       "2    Location = 17.51°N, 120.68°E - 013 km S 14° E ...  \n",
       "3    Location = 17.55°N, 120.73°E - 011 km S 49° E ...  \n",
       "4    Location = 17.24°N, 120.72°E - 002 km S 03° W ...  \n",
       "..                                                 ...  \n",
       "632  Location = 17.60°N, 120.62°E - 004 km S 59° W ...  \n",
       "633  Location = 17.52°N, 120.59°E - 013 km S 31° W ...  \n",
       "634  Location = 17.58°N, 120.52°E - 014 km S 72° W ...  \n",
       "635  Location = 17.64°N, 120.63°E - 003 km N 45° W ...  \n",
       "636  Location = 17.63°N, 120.74°E - 002 km N 20° E ...  \n",
       "\n",
       "[637 rows x 5 columns]"
      ],
      "text/html": "<div>\n<style scoped>\n    .dataframe tbody tr th:only-of-type {\n        vertical-align: middle;\n    }\n\n    .dataframe tbody tr th {\n        vertical-align: top;\n    }\n\n    .dataframe thead th {\n        text-align: right;\n    }\n</style>\n<table border=\"1\" class=\"dataframe\">\n  <thead>\n    <tr style=\"text-align: right;\">\n      <th></th>\n      <th>info_num</th>\n      <th>date_time</th>\n      <th>magnitude</th>\n      <th>depth</th>\n      <th>location</th>\n    </tr>\n  </thead>\n  <tbody>\n    <tr>\n      <th>0</th>\n      <td>Earthquake Information No.1</td>\n      <td>Date and Time: 04 August 2022 - 02:14 PM</td>\n      <td>Magnitude = 2.2</td>\n      <td>Depth = 031 km</td>\n      <td>Location = 17.35°N, 120.67°E - 005 km N 37° W ...</td>\n    </tr>\n    <tr>\n      <th>1</th>\n      <td>Earthquake Information No.1</td>\n      <td>Date and Time: 04 August 2022 - 01:53 PM</td>\n      <td>Magnitude = 2.1</td>\n      <td>Depth = 010 km</td>\n      <td>Location = 17.51°N, 120.85°E - 010 km N 53° W ...</td>\n    </tr>\n    <tr>\n      <th>2</th>\n      <td>Earthquake Information No.1</td>\n      <td>Date and Time: 04 August 2022 - 01:23 PM</td>\n      <td>Magnitude = 2.2</td>\n      <td>Depth = 002 km</td>\n      <td>Location = 17.51°N, 120.68°E - 013 km S 14° E ...</td>\n    </tr>\n    <tr>\n      <th>3</th>\n      <td>Earthquake Information No.1</td>\n      <td>Date and Time: 04 August 2022 - 01:16 PM</td>\n      <td>Magnitude = 1.7</td>\n      <td>Depth = 013 km</td>\n      <td>Location = 17.55°N, 120.73°E - 011 km S 49° E ...</td>\n    </tr>\n    <tr>\n      <th>4</th>\n      <td>Earthquake Information No.1</td>\n      <td>Date and Time: 04 August 2022 - 01:04 PM</td>\n      <td>Magnitude = 2.1</td>\n      <td>Depth = 014 km</td>\n      <td>Location = 17.24°N, 120.72°E - 002 km S 03° W ...</td>\n    </tr>\n    <tr>\n      <th>...</th>\n      <td>...</td>\n      <td>...</td>\n      <td>...</td>\n      <td>...</td>\n      <td>...</td>\n    </tr>\n    <tr>\n      <th>632</th>\n      <td>Earthquake Information No.1</td>\n      <td>Date and Time: 27 July 2022 - 11:28 AM</td>\n      <td>Magnitude = 4.7</td>\n      <td>Depth = 001 km</td>\n      <td>Location = 17.60°N, 120.62°E - 004 km S 59° W ...</td>\n    </tr>\n    <tr>\n      <th>633</th>\n      <td>Earthquake Information No.1</td>\n      <td>Date and Time: 27 July 2022 - 11:14 AM</td>\n      <td>Magnitude = 4.4</td>\n      <td>Depth = 005 km</td>\n      <td>Location = 17.52°N, 120.59°E - 013 km S 31° W ...</td>\n    </tr>\n    <tr>\n      <th>634</th>\n      <td>Earthquake Information No.1</td>\n      <td>Date and Time: 27 July 2022 - 10:50 AM</td>\n      <td>Magnitude = 4.0</td>\n      <td>Depth = 001 km</td>\n      <td>Location = 17.58°N, 120.52°E - 014 km S 72° W ...</td>\n    </tr>\n    <tr>\n      <th>635</th>\n      <td>Earthquake Information No.2</td>\n      <td>Date and Time: 27 July 2022 - 08:43 AM</td>\n      <td>Magnitude = 7.0</td>\n      <td>Depth = 017 km</td>\n      <td>Location = 17.64°N, 120.63°E - 003 km N 45° W ...</td>\n    </tr>\n    <tr>\n      <th>636</th>\n      <td>Earthquake Information No.1</td>\n      <td>Date and Time: 27 July 2022 - 08:43 AM</td>\n      <td>Magnitude = 7.3</td>\n      <td>Depth = 025 km</td>\n      <td>Location = 17.63°N, 120.74°E - 002 km N 20° E ...</td>\n    </tr>\n  </tbody>\n</table>\n<p>637 rows × 5 columns</p>\n</div>"
     },
     "metadata": {},
     "execution_count": 7
    }
   ],
   "source": [
    "df_abra = pd.DataFrame([])\n",
    "df_abra['info_num'] = df_abra_noshift[1].append(df_abra_shift[2], ignore_index=True)\n",
    "df_abra['date_time'] = df_abra_noshift[2].append(df_abra_shift[3], ignore_index=True)\n",
    "df_abra['magnitude'] = df_abra_noshift[3].append(df_abra_shift[4], ignore_index=True)\n",
    "df_abra['depth'] = df_abra_noshift[4].append(df_abra_shift[5], ignore_index=True)\n",
    "df_abra['location'] = df_abra_noshift[5].append(df_abra_shift[6], ignore_index=True)\n",
    "df_abra"
   ]
  },
  {
   "cell_type": "code",
   "execution_count": 8,
   "metadata": {},
   "outputs": [
    {
     "output_type": "execute_result",
     "data": {
      "text/plain": [
       "     info_num                                 date_time  magnitude  depth  \\\n",
       "0           1  Date and Time: 04 August 2022 - 02:14 PM        2.2   31.0   \n",
       "1           1  Date and Time: 04 August 2022 - 01:53 PM        2.1   10.0   \n",
       "2           1  Date and Time: 04 August 2022 - 01:23 PM        2.2    2.0   \n",
       "3           1  Date and Time: 04 August 2022 - 01:16 PM        1.7   13.0   \n",
       "4           1  Date and Time: 04 August 2022 - 01:04 PM        2.1   14.0   \n",
       "..        ...                                       ...        ...    ...   \n",
       "632         1    Date and Time: 27 July 2022 - 11:28 AM        4.7    1.0   \n",
       "633         1    Date and Time: 27 July 2022 - 11:14 AM        4.4    5.0   \n",
       "634         1    Date and Time: 27 July 2022 - 10:50 AM        4.0    1.0   \n",
       "635         2    Date and Time: 27 July 2022 - 08:43 AM        7.0   17.0   \n",
       "636         1    Date and Time: 27 July 2022 - 08:43 AM        7.3   25.0   \n",
       "\n",
       "                                              location  \n",
       "0    Location = 17.35°N, 120.67°E - 005 km N 37° W ...  \n",
       "1    Location = 17.51°N, 120.85°E - 010 km N 53° W ...  \n",
       "2    Location = 17.51°N, 120.68°E - 013 km S 14° E ...  \n",
       "3    Location = 17.55°N, 120.73°E - 011 km S 49° E ...  \n",
       "4    Location = 17.24°N, 120.72°E - 002 km S 03° W ...  \n",
       "..                                                 ...  \n",
       "632  Location = 17.60°N, 120.62°E - 004 km S 59° W ...  \n",
       "633  Location = 17.52°N, 120.59°E - 013 km S 31° W ...  \n",
       "634  Location = 17.58°N, 120.52°E - 014 km S 72° W ...  \n",
       "635  Location = 17.64°N, 120.63°E - 003 km N 45° W ...  \n",
       "636  Location = 17.63°N, 120.74°E - 002 km N 20° E ...  \n",
       "\n",
       "[637 rows x 5 columns]"
      ],
      "text/html": "<div>\n<style scoped>\n    .dataframe tbody tr th:only-of-type {\n        vertical-align: middle;\n    }\n\n    .dataframe tbody tr th {\n        vertical-align: top;\n    }\n\n    .dataframe thead th {\n        text-align: right;\n    }\n</style>\n<table border=\"1\" class=\"dataframe\">\n  <thead>\n    <tr style=\"text-align: right;\">\n      <th></th>\n      <th>info_num</th>\n      <th>date_time</th>\n      <th>magnitude</th>\n      <th>depth</th>\n      <th>location</th>\n    </tr>\n  </thead>\n  <tbody>\n    <tr>\n      <th>0</th>\n      <td>1</td>\n      <td>Date and Time: 04 August 2022 - 02:14 PM</td>\n      <td>2.2</td>\n      <td>31.0</td>\n      <td>Location = 17.35°N, 120.67°E - 005 km N 37° W ...</td>\n    </tr>\n    <tr>\n      <th>1</th>\n      <td>1</td>\n      <td>Date and Time: 04 August 2022 - 01:53 PM</td>\n      <td>2.1</td>\n      <td>10.0</td>\n      <td>Location = 17.51°N, 120.85°E - 010 km N 53° W ...</td>\n    </tr>\n    <tr>\n      <th>2</th>\n      <td>1</td>\n      <td>Date and Time: 04 August 2022 - 01:23 PM</td>\n      <td>2.2</td>\n      <td>2.0</td>\n      <td>Location = 17.51°N, 120.68°E - 013 km S 14° E ...</td>\n    </tr>\n    <tr>\n      <th>3</th>\n      <td>1</td>\n      <td>Date and Time: 04 August 2022 - 01:16 PM</td>\n      <td>1.7</td>\n      <td>13.0</td>\n      <td>Location = 17.55°N, 120.73°E - 011 km S 49° E ...</td>\n    </tr>\n    <tr>\n      <th>4</th>\n      <td>1</td>\n      <td>Date and Time: 04 August 2022 - 01:04 PM</td>\n      <td>2.1</td>\n      <td>14.0</td>\n      <td>Location = 17.24°N, 120.72°E - 002 km S 03° W ...</td>\n    </tr>\n    <tr>\n      <th>...</th>\n      <td>...</td>\n      <td>...</td>\n      <td>...</td>\n      <td>...</td>\n      <td>...</td>\n    </tr>\n    <tr>\n      <th>632</th>\n      <td>1</td>\n      <td>Date and Time: 27 July 2022 - 11:28 AM</td>\n      <td>4.7</td>\n      <td>1.0</td>\n      <td>Location = 17.60°N, 120.62°E - 004 km S 59° W ...</td>\n    </tr>\n    <tr>\n      <th>633</th>\n      <td>1</td>\n      <td>Date and Time: 27 July 2022 - 11:14 AM</td>\n      <td>4.4</td>\n      <td>5.0</td>\n      <td>Location = 17.52°N, 120.59°E - 013 km S 31° W ...</td>\n    </tr>\n    <tr>\n      <th>634</th>\n      <td>1</td>\n      <td>Date and Time: 27 July 2022 - 10:50 AM</td>\n      <td>4.0</td>\n      <td>1.0</td>\n      <td>Location = 17.58°N, 120.52°E - 014 km S 72° W ...</td>\n    </tr>\n    <tr>\n      <th>635</th>\n      <td>2</td>\n      <td>Date and Time: 27 July 2022 - 08:43 AM</td>\n      <td>7.0</td>\n      <td>17.0</td>\n      <td>Location = 17.64°N, 120.63°E - 003 km N 45° W ...</td>\n    </tr>\n    <tr>\n      <th>636</th>\n      <td>1</td>\n      <td>Date and Time: 27 July 2022 - 08:43 AM</td>\n      <td>7.3</td>\n      <td>25.0</td>\n      <td>Location = 17.63°N, 120.74°E - 002 km N 20° E ...</td>\n    </tr>\n  </tbody>\n</table>\n<p>637 rows × 5 columns</p>\n</div>"
     },
     "metadata": {},
     "execution_count": 8
    }
   ],
   "source": [
    "df_abra['magnitude'] = df_abra['magnitude'].str[-3:].astype('float')\n",
    "df_abra['depth'] = df_abra['depth'].str[-6:-3].astype('float')\n",
    "df_abra['info_num'] = df_abra['info_num'].str[-1].astype('int')\n",
    "df_abra"
   ]
  },
  {
   "cell_type": "code",
   "execution_count": 53,
   "metadata": {},
   "outputs": [
    {
     "output_type": "execute_result",
     "data": {
      "text/plain": [
       "Empty DataFrame\n",
       "Columns: [info_num, date_time, magnitude, depth]\n",
       "Index: []"
      ],
      "text/html": "<div>\n<style scoped>\n    .dataframe tbody tr th:only-of-type {\n        vertical-align: middle;\n    }\n\n    .dataframe tbody tr th {\n        vertical-align: top;\n    }\n\n    .dataframe thead th {\n        text-align: right;\n    }\n</style>\n<table border=\"1\" class=\"dataframe\">\n  <thead>\n    <tr style=\"text-align: right;\">\n      <th></th>\n      <th>info_num</th>\n      <th>date_time</th>\n      <th>magnitude</th>\n      <th>depth</th>\n    </tr>\n  </thead>\n  <tbody>\n  </tbody>\n</table>\n</div>"
     },
     "metadata": {},
     "execution_count": 53
    }
   ],
   "source": []
  },
  {
   "cell_type": "code",
   "execution_count": null,
   "metadata": {},
   "outputs": [],
   "source": []
  }
 ]
}